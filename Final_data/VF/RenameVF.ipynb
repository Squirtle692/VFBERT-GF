{
 "cells": [
  {
   "cell_type": "code",
   "execution_count": 3,
   "id": "4d2e932e",
   "metadata": {},
   "outputs": [],
   "source": [
    "def process_fasta(input_file, output_file):\n",
    "    with open(input_file, 'r') as f_in, open(output_file, 'w') as f_out:\n",
    "        sequence_lines = []  # This list will store the lines of a sequence\n",
    "        for line in f_in:\n",
    "            # If the line starts with '>', it's a header\n",
    "            if line.startswith('>'):\n",
    "                # If there is a sequence in sequence_lines, write it to the output and clear sequence_lines\n",
    "                if sequence_lines:\n",
    "                    f_out.write(''.join(sequence_lines).upper() + '\\n')\n",
    "                    sequence_lines.clear()\n",
    "                # Write the header line to the output\n",
    "                f_out.write(line)\n",
    "            else:\n",
    "                # If the line doesn't start with '>', it's a sequence line. Remove the newline character and add it to sequence_lines\n",
    "                sequence_lines.append(line.strip())\n",
    "        # After all lines are read, there might still be a sequence in sequence_lines. If so, write it to the output\n",
    "        if sequence_lines:\n",
    "            f_out.write(''.join(sequence_lines).upper() + '\\n')"
   ]
  },
  {
   "cell_type": "code",
   "execution_count": 6,
   "id": "c66ff404",
   "metadata": {},
   "outputs": [],
   "source": [
    "process_fasta('All_VF.fasta', 'All_VF.fasta')"
   ]
  },
  {
   "cell_type": "code",
   "execution_count": 7,
   "id": "34a441bb",
   "metadata": {},
   "outputs": [],
   "source": [
    "def count_sequences_in_fasta(input_file):\n",
    "    count = 0\n",
    "    with open(input_file, 'r') as f_in:\n",
    "        for line in f_in:\n",
    "            if line.startswith('>'):\n",
    "                count += 1\n",
    "    return count\n",
    "\n",
    "# Example usage\n",
    "# num_sequences = count_sequences_in_fasta('path_to_your_input_file.fasta')\n",
    "# print('Number of sequences:', num_sequences)\n",
    "\n",
    "# The function is defined but not called. You can use it by uncommenting the last two lines and providing the correct file path."
   ]
  },
  {
   "cell_type": "code",
   "execution_count": 14,
   "id": "981b0b36",
   "metadata": {},
   "outputs": [
    {
     "name": "stdout",
     "output_type": "stream",
     "text": [
      "Number of sequences: 5259\n"
     ]
    }
   ],
   "source": [
    "num_sequences = count_sequences_in_fasta('BVBRC(PATRIC_U).fasta')\n",
    "print('Number of sequences:', num_sequences)"
   ]
  },
  {
   "cell_type": "code",
   "execution_count": 12,
   "id": "242f0f9a",
   "metadata": {},
   "outputs": [],
   "source": [
    "def rename_sequences_in_fasta(input_file, output_file):\n",
    "    counter_dict = {'>fig': {'name': 'PATRIC', 'counter': 0},\n",
    "                    '>VF': {'name': 'VFDB', 'counter': 0},\n",
    "                    '>gi': {'name': 'Victors', 'counter': 0}}\n",
    "    \n",
    "    with open(input_file, 'r') as f_in, open(output_file, 'w') as f_out:\n",
    "        sequence_lines = []  # This list will store the lines of a sequence\n",
    "        for line in f_in:\n",
    "            if line.startswith('>'):\n",
    "                # If there is a sequence in sequence_lines, write it to the output and clear sequence_lines\n",
    "                if sequence_lines:\n",
    "                    f_out.write(''.join(sequence_lines).upper() + '\\n')\n",
    "                    sequence_lines.clear()\n",
    "                \n",
    "                # Rename the sequence header\n",
    "                for prefix, info in counter_dict.items():\n",
    "                    if line.startswith(prefix):\n",
    "                        info['counter'] += 1\n",
    "                        line = '>{}{}\\n'.format(info['name'], info['counter'])\n",
    "                        break\n",
    "\n",
    "                # Write the header line to the output\n",
    "                f_out.write(line)\n",
    "            else:\n",
    "                # If the line doesn't start with '>', it's a sequence line. Remove the newline character and add it to sequence_lines\n",
    "                sequence_lines.append(line.strip())\n",
    "        # After all lines are read, there might still be a sequence in sequence_lines. If so, write it to the output\n",
    "        if sequence_lines:\n",
    "            f_out.write(''.join(sequence_lines).upper() + '\\n')\n",
    "\n",
    "# Example usage\n",
    "# rename_sequences_in_fasta('input.fasta', 'output.fasta')\n",
    "\n",
    "# The function is defined but not called. You can use it by uncommenting the last line and providing the correct file paths.\n"
   ]
  },
  {
   "cell_type": "code",
   "execution_count": 13,
   "id": "f801c960",
   "metadata": {},
   "outputs": [],
   "source": [
    "rename_sequences_in_fasta('All_VF.fasta', 'All_VF(Re).fasta')"
   ]
  },
  {
   "cell_type": "code",
   "execution_count": null,
   "id": "9a7be1bb",
   "metadata": {},
   "outputs": [],
   "source": [
    "import random\n",
    "from Bio import SeqIO\n",
    "\n",
    "def parse_clusters(cluster_file):\n",
    "    with open(cluster_file, 'r') as file:\n",
    "        clusters = file.read().split('>Cluster ')[1:]  # Split clusters\n",
    "        clusters = [cluster.split('\\n')[1:-1] for cluster in clusters]  # Split sequences in each cluster\n",
    "    return clusters\n",
    "\n",
    "def classify_clusters(clusters):\n",
    "    degs = set()\n",
    "    vfs = set()\n",
    "    for cluster in clusters:\n",
    "        vf_in_cluster = [seq for seq in cluster if not seq.startswith('DEG')]\n",
    "        if vf_in_cluster:  # If there are any VF sequences in the cluster\n",
    "            random_vf = random.choice(vf_in_cluster)\n",
    "            vfs.add(random_vf.split()[1][1:-3])  # Add VF sequence ID to the set\n",
    "        else:  # If the cluster only contains DEG sequences\n",
    "            ref_seq = [seq for seq in cluster if seq.endswith('*')][0]\n",
    "            degs.add(ref_seq.split()[1][1:-3])  # Add DEG sequence ID to the set\n",
    "    return degs, vfs\n",
    "\n",
    "def write_selected_sequences_to_fasta(output_file, seq_dict, id_set):\n",
    "    selected_records = [record for id, record in seq_dict.items() if id in id_set]\n",
    "    SeqIO.write(selected_records, output_file, 'fasta')\n",
    "\n",
    "# Parse clusters and classify them\n",
    "clusters = parse_clusters('')\n",
    "degs, vfs = classify_clusters(clusters)\n",
    "\n",
    "# Create sequence dictionaries from the fasta files\n",
    "vf_dict = create_dict_from_fasta('All_VF.fasta')\n",
    "deg_dict = create_dict_from_fasta('DEG10.fasta')\n",
    "\n",
    "# Write selected sequences to output files\n",
    "write_selected_sequences_to_fasta('DEG_output.fasta', deg_dict, degs)\n",
    "write_selected_sequences_to_fasta('VF_output.fasta', vf_dict, vfs)"
   ]
  }
 ],
 "metadata": {
  "kernelspec": {
   "display_name": "Python 3 (ipykernel)",
   "language": "python",
   "name": "python3"
  },
  "language_info": {
   "codemirror_mode": {
    "name": "ipython",
    "version": 3
   },
   "file_extension": ".py",
   "mimetype": "text/x-python",
   "name": "python",
   "nbconvert_exporter": "python",
   "pygments_lexer": "ipython3",
   "version": "3.9.12"
  }
 },
 "nbformat": 4,
 "nbformat_minor": 5
}
