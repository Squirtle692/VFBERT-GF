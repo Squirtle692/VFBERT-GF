{
 "cells": [
  {
   "cell_type": "code",
   "execution_count": 22,
   "id": "9cb13c93",
   "metadata": {},
   "outputs": [
    {
     "name": "stdout",
     "output_type": "stream",
     "text": [
      "Warning: NC_026748.1:391624- not found in the fasta file.\n",
      "Warning: NC_004718.3:28119-2 not found in the fasta file.\n",
      "Warning: NC_019843.3:26839-2 not found in the fasta file.\n",
      "Warning: NC_019843.3:27852-2 not found in the fasta file.\n"
     ]
    }
   ],
   "source": [
    "import random\n",
    "from Bio import SeqIO\n",
    "import re\n",
    "\n",
    "def read_cluster_file(cluster_filename):\n",
    "    cluster_dict = {}\n",
    "    with open(cluster_filename, \"r\") as f:\n",
    "        for line in f:\n",
    "            if line.startswith(\">\"):\n",
    "                cluster_name = line.strip()\n",
    "                cluster_dict[cluster_name] = []\n",
    "            else:\n",
    "                gene_name = line.split(\",\")[1].strip().split(\"...\")[0]\n",
    "                is_ref = \"*\" in line\n",
    "                cluster_dict[cluster_name].append((gene_name, is_ref))\n",
    "    return cluster_dict\n",
    "\n",
    "def choose_gene(cluster_dict):\n",
    "    selected_genes_vf = {}\n",
    "    selected_genes_deg = {}\n",
    "\n",
    "    for cluster, genes in cluster_dict.items():\n",
    "        vf_genes = [gene for gene in genes if not gene[0].startswith(\">DEG\")]\n",
    "        deg_genes = [gene for gene in genes if gene[0].startswith(\">DEG\")]\n",
    "\n",
    "        if vf_genes:  # if there's any VF gene, choose one VF gene\n",
    "            selected_genes_vf[cluster] = random.choice(vf_genes)\n",
    "        elif deg_genes:  # if there's only DEG genes, choose a DEG gene\n",
    "            selected_genes_deg[cluster] = random.choice(deg_genes)\n",
    "\n",
    "    return selected_genes_vf, selected_genes_deg\n",
    "\n",
    "def extract_sequences(fasta_file, selected_genes, output_file):\n",
    "    sequences = SeqIO.to_dict(SeqIO.parse(fasta_file, \"fasta\"))\n",
    "\n",
    "    with open(output_file, \"w\") as f:\n",
    "        for genes in selected_genes.values():\n",
    "            gene_name = genes[0].strip(' >') # remove \">\" symbol from the gene name\n",
    "            if gene_name in sequences:\n",
    "                SeqIO.write(sequences[gene_name], f, \"fasta\")\n",
    "            else:\n",
    "                print(f\"Warning: {gene_name} not found in the fasta file.\")\n",
    "            \n",
    "            \n",
    "\n",
    "cluster_filename = \"All_data_1.0.clstr\"\n",
    "fasta_file_all_vf = \"VF/All_VF.fasta\"\n",
    "fasta_file_deg = \"N_VF/Essential_genes.fasta\"\n",
    "output_file_vf = \"VF/F_VF.fasta\"\n",
    "output_file_deg = \"N_VF/F_DEG.fasta\"\n",
    "\n",
    "cluster_dict = read_cluster_file(cluster_filename)\n",
    "selected_genes_vf, selected_genes_deg = choose_gene(cluster_dict)\n",
    "\n",
    "extract_sequences(fasta_file_all_vf, selected_genes_vf, output_file_vf)\n",
    "extract_sequences(fasta_file_deg, selected_genes_deg, output_file_deg)\n"
   ]
  },
  {
   "cell_type": "code",
   "execution_count": 24,
   "id": "b8a9d4f1",
   "metadata": {},
   "outputs": [
    {
     "name": "stdout",
     "output_type": "stream",
     "text": [
      "There are 22024 sequences in the fasta file.\n"
     ]
    }
   ],
   "source": [
    "def count_sequences(fasta_file):\n",
    "    return sum(1 for _ in SeqIO.parse(fasta_file, \"fasta\"))\n",
    "\n",
    "fasta_file = \"N_VF/F_DEG.fasta\"\n",
    "num_sequences = count_sequences(fasta_file)\n",
    "\n",
    "print(f\"There are {num_sequences} sequences in the DEG file.\")"
   ]
  },
  {
   "cell_type": "code",
   "execution_count": 28,
   "id": "e867c153",
   "metadata": {},
   "outputs": [
    {
     "name": "stdout",
     "output_type": "stream",
     "text": [
      "There are 11688 sequences in the fasta file.\n"
     ]
    }
   ],
   "source": [
    "def count_sequences(fasta_file):\n",
    "    return sum(1 for _ in SeqIO.parse(fasta_file, \"fasta\"))\n",
    "\n",
    "fasta_file = \"VF/F_VF.fasta\"\n",
    "num_sequences = count_sequences(fasta_file)\n",
    "\n",
    "print(f\"There are {num_sequences} sequences in the VF file.\")"
   ]
  },
  {
   "cell_type": "code",
   "execution_count": null,
   "id": "5e2abe12",
   "metadata": {},
   "outputs": [],
   "source": []
  }
 ],
 "metadata": {
  "kernelspec": {
   "display_name": "Python 3 (ipykernel)",
   "language": "python",
   "name": "python3"
  },
  "language_info": {
   "codemirror_mode": {
    "name": "ipython",
    "version": 3
   },
   "file_extension": ".py",
   "mimetype": "text/x-python",
   "name": "python",
   "nbconvert_exporter": "python",
   "pygments_lexer": "ipython3",
   "version": "3.9.12"
  }
 },
 "nbformat": 4,
 "nbformat_minor": 5
}
